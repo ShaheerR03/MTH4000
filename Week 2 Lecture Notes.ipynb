{
 "cells": [
  {
   "cell_type": "markdown",
   "metadata": {},
   "source": [
    "<h1> MTH4000 Programming in Python I</h1>\n",
    "<h2> Week 2 Lecture Notes</h2>\n",
    "<h3><em> Dr Matthew Lewis and Prof. Thomas Prellberg </em></h3>\n",
    "\n",
    "<h2>Operators</h2>\n",
    "\n",
    "Consider the following three elements of Python's syntax that we saw last week:\n",
    "\n",
    "<ul>\n",
    "    <li> Python understands a type of data called <em>integers</em>, usually referred to as <samp>int</samp>.</li><br>\n",
    "    <li> Each element of this data type can be assigned to a variable.</li><br>\n",
    "    <li> For any two elements of this data type, there exists an operator called <em>addition</em> that accepts the two elements as input, and returns a third value of the same type that is equal to the sum of the previous two values.  This operator is denoted with the <code><span style=\"color:rgb(170,34,255);font-weight:bold;\">+</span></code> character.</li>\n",
    "</ul>\n",
    "\n",
    "These three elements are illustrated in the following code box:"
   ]
  },
  {
   "cell_type": "code",
   "execution_count": 1,
   "metadata": {
    "ExecuteTime": {
     "end_time": "2024-09-28T13:02:22.287179Z",
     "start_time": "2024-09-28T13:02:22.260761Z"
    }
   },
   "outputs": [
    {
     "name": "stdout",
     "output_type": "stream",
     "text": [
      "39\n"
     ]
    }
   ],
   "source": [
    "a = 12\n",
    "b = 27\n",
    "\n",
    "c = a+b\n",
    "\n",
    "print(c)"
   ]
  },
  {
   "cell_type": "markdown",
   "metadata": {},
   "source": [
    "It's important to note however, that the story of operators does not end at simple arithmetic.  To illustrate this, we emphasise that objects assigned to variables <em>do not have to be numerical</em>.  For instance, observe the following assignment of a string to a variable."
   ]
  },
  {
   "cell_type": "code",
   "execution_count": 2,
   "metadata": {
    "ExecuteTime": {
     "end_time": "2024-09-28T13:02:24.856377Z",
     "start_time": "2024-09-28T13:02:24.851800Z"
    }
   },
   "outputs": [],
   "source": [
    "pleasantry = 'Hello'"
   ]
  },
  {
   "cell_type": "markdown",
   "metadata": {},
   "source": [
    "The variable <code>pleasantry</code> has been assigned a <samp>str</samp> value, rather than an <samp>int</samp> or a <samp>float</samp>.  This is perfectly acceptable, and can be called and returned, just as with numerical data."
   ]
  },
  {
   "cell_type": "code",
   "execution_count": 3,
   "metadata": {
    "ExecuteTime": {
     "end_time": "2024-09-28T13:02:26.053190Z",
     "start_time": "2024-09-28T13:02:26.043614Z"
    }
   },
   "outputs": [
    {
     "data": {
      "text/plain": [
       "'Hello'"
      ]
     },
     "execution_count": 3,
     "metadata": {},
     "output_type": "execute_result"
    }
   ],
   "source": [
    "pleasantry"
   ]
  },
  {
   "cell_type": "markdown",
   "metadata": {},
   "source": [
    "Note that the raw data (the string itself) has quotation marks, as all strings must.  The word <code>pleasantry</code> is a variable however, and so it does not have quotation marks around it.  Remember the difference here.  <code>pleasantry</code> is just a name for the data, <code><span style=\"color:rgb(186,33,33);\">'Hello'</span></code> is the actual data.\n",
    "\n",
    "This demonstrates how variables should not be thought of solely as containers for numerical values, but as containers for data in general.  Moreover, some operators that can be applied to numerical data can be applied to <em>other</em> types of data too.  Observe how Python interprets the addition operator <code><span style=\"color:rgb(170,34,255);font-weight:bold;\">+</span></code> between pairs of strings."
   ]
  },
  {
   "cell_type": "code",
   "execution_count": 4,
   "metadata": {
    "ExecuteTime": {
     "end_time": "2024-09-28T13:02:54.371803Z",
     "start_time": "2024-09-28T13:02:54.366770Z"
    }
   },
   "outputs": [
    {
     "data": {
      "text/plain": [
       "'This string and another string.'"
      ]
     },
     "execution_count": 4,
     "metadata": {},
     "output_type": "execute_result"
    }
   ],
   "source": [
    "'This string '+'and another string.'"
   ]
  },
  {
   "cell_type": "markdown",
   "metadata": {},
   "source": [
    "The effect of using the <code><span style=\"color:rgb(170,34,255);font-weight:bold;\">+</span></code> operator between two strings is to concatentate them (that is, 'glue them together' in the order in which they were listed in the operation).\n",
    "\n",
    "We can demonstrate this with variables, in a similar style to our arithmetic example above."
   ]
  },
  {
   "cell_type": "code",
   "execution_count": 5,
   "metadata": {
    "ExecuteTime": {
     "end_time": "2024-09-28T13:03:05.048993Z",
     "start_time": "2024-09-28T13:03:05.044289Z"
    }
   },
   "outputs": [
    {
     "name": "stdout",
     "output_type": "stream",
     "text": [
      "Hello world!\n"
     ]
    }
   ],
   "source": [
    "context = ' world!'\n",
    "\n",
    "message = pleasantry + context\n",
    "\n",
    "print(message)"
   ]
  },
  {
   "cell_type": "markdown",
   "metadata": {},
   "source": [
    "This shows how the <code><span style=\"color:rgb(170,34,255);font-weight:bold;\">+</span></code> operator can be used in two different ways, depending on whether the data are integers or strings.  Note that not only were we able to use the same operator for these two different contexts, we didn't even have to specify what the types of data were beforehand!\n",
    "\n",
    "This is a key feature that distinguishes Python from some other types of programming languages, such as C and C++.  It is called <b>dynamic typing</b>, and it means that as long as an operator is defined for a certain type of data, then we can use it without having to actually declare the data type beforehand.\n",
    "\n",
    "We will not go into this concept in any more detail, but it's useful to know what the phrase means, and it's important to understand that not all programming languages behave in this way.  It's also good for us to appreciate the limits of this facility.  Note that just because addition is defined between strings, does not mean that <em>all</em> arithmetic operations are."
   ]
  },
  {
   "cell_type": "code",
   "execution_count": 6,
   "metadata": {
    "ExecuteTime": {
     "end_time": "2024-09-28T13:03:19.228289Z",
     "start_time": "2024-09-28T13:03:18.651602Z"
    }
   },
   "outputs": [
    {
     "ename": "TypeError",
     "evalue": "unsupported operand type(s) for -: 'str' and 'str'",
     "output_type": "error",
     "traceback": [
      "\u001b[1;31m---------------------------------------------------------------------------\u001b[0m",
      "\u001b[1;31mTypeError\u001b[0m                                 Traceback (most recent call last)",
      "Cell \u001b[1;32mIn[6], line 1\u001b[0m\n\u001b[1;32m----> 1\u001b[0m pleasantry \u001b[38;5;241m-\u001b[39m context\n",
      "\u001b[1;31mTypeError\u001b[0m: unsupported operand type(s) for -: 'str' and 'str'"
     ]
    }
   ],
   "source": [
    "pleasantry - context\n",
    "\n",
    "# Subtraction is not defined for strings, so this will raise an error."
   ]
  },
  {
   "cell_type": "markdown",
   "metadata": {},
   "source": [
    "Likewise, just because addition works for integers and strings, does not mean it can be applied to functions."
   ]
  },
  {
   "cell_type": "code",
   "execution_count": 7,
   "metadata": {
    "ExecuteTime": {
     "end_time": "2024-09-28T13:04:21.224266Z",
     "start_time": "2024-09-28T13:04:21.205248Z"
    }
   },
   "outputs": [
    {
     "ename": "TypeError",
     "evalue": "unsupported operand type(s) for +: 'builtin_function_or_method' and 'builtin_function_or_method'",
     "output_type": "error",
     "traceback": [
      "\u001b[1;31m---------------------------------------------------------------------------\u001b[0m",
      "\u001b[1;31mTypeError\u001b[0m                                 Traceback (most recent call last)",
      "Cell \u001b[1;32mIn[7], line 1\u001b[0m\n\u001b[1;32m----> 1\u001b[0m (\u001b[38;5;28mround\u001b[39m\u001b[38;5;241m+\u001b[39m\u001b[38;5;28mabs\u001b[39m)(\u001b[38;5;241m-\u001b[39m\u001b[38;5;241m3.142\u001b[39m)\n",
      "\u001b[1;31mTypeError\u001b[0m: unsupported operand type(s) for +: 'builtin_function_or_method' and 'builtin_function_or_method'"
     ]
    }
   ],
   "source": [
    "(round+abs)(-3.142)\n",
    "\n",
    "# round and abs are both built in functions.\n",
    "# Even though they both accept -3.142 as an input, the sum of two functions in Python is not defined,\n",
    "# and so this box will return an error."
   ]
  },
  {
   "cell_type": "markdown",
   "metadata": {},
   "source": [
    "Dynamic typing even extends to mixing different types of data.  As long as the operator has been defined to accept a mix of data on its left and right-hand sides, then we may use it this way.\n",
    "\n",
    "For instance, the multiplication operator <code><span style=\"color:rgb(170,34,255);font-weight:bold;\">*</span></code> lets us mix strings and integers."
   ]
  },
  {
   "cell_type": "code",
   "execution_count": 8,
   "metadata": {
    "ExecuteTime": {
     "end_time": "2024-09-28T13:04:55.635361Z",
     "start_time": "2024-09-28T13:04:55.630792Z"
    }
   },
   "outputs": [
    {
     "data": {
      "text/plain": [
       "'hello hello hello '"
      ]
     },
     "execution_count": 8,
     "metadata": {},
     "output_type": "execute_result"
    }
   ],
   "source": [
    "'hello '*3"
   ]
  },
  {
   "cell_type": "markdown",
   "metadata": {},
   "source": [
    "It's clear that the effect of this operation is to repeatedly concatenate the string with itself a given number of times, where this number is equal to the integer used in the operation.\n",
    "\n",
    "As a final note here, this concept will turn up when we introduce other types of data.  When we introduce lists, for instance, we will see how Python recognises the concept of adding together two lists.\n",
    "\n",
    "<h2>Keywords</h2>\n",
    "\n",
    "So far, we have seen three key elements of Python's syntax; data types, variables and operators.  These have shown us how to construct data, use this data to compute new values, and how to store these values in local memory for future computations.\n",
    "\n",
    "This is clearly a little dry though.  Questions remain:\n",
    "\n",
    "<ul>\n",
    "    <li> How do we obtain data or functions from external files?</li><br>\n",
    "    <li> How do we define our own functions, so that we don't have to repeat the same computations over and over again?</li><br>\n",
    "    <li> How can we get greater control over our functions, so that the instructions given to the interpreter depend on the values we obtain (without us manually checking them)?</li>\n",
    "</ul>\n",
    "\n",
    "If we can't achieve these goals, then we're not really programming.  Python's keywords give us the means to answer these objectives.  Observe the following script."
   ]
  },
  {
   "cell_type": "code",
   "execution_count": 9,
   "metadata": {
    "ExecuteTime": {
     "end_time": "2024-09-28T13:05:43.393082Z",
     "start_time": "2024-09-28T13:05:43.385091Z"
    }
   },
   "outputs": [
    {
     "name": "stdout",
     "output_type": "stream",
     "text": [
      "100\n"
     ]
    }
   ],
   "source": [
    "s = 0\n",
    "\n",
    "for i in range(20):\n",
    "    if i%2==0:\n",
    "        s = s+i\n",
    "    else:\n",
    "        s = s+1\n",
    "    \n",
    "print(s)"
   ]
  },
  {
   "cell_type": "markdown",
   "metadata": {},
   "source": [
    "Some of the above script should look familiar by now, but much of it will not.  This is fine, we don't need to understand all of it at this stage, but it's important that we can spot when and how keywords are being used.\n",
    "\n",
    "In the above script, the words <code><span style=\"color:rgb(0,128,0);font-weight:bold;\">for</span></code>, <code><span style=\"color:rgb(0,128,0);font-weight:bold;\">in</span></code>, <code><span style=\"color:rgb(0,128,0);font-weight:bold;\">if</span></code> and <code><span style=\"color:rgb(0,128,0);font-weight:bold;\">else</span></code> are all Python keywords.\n",
    "\n",
    "Firstly, note that keywords exist on their own, without any arguments.  This distinguishes them from functions.  They are not followed by parentheses, and they do not accept inputs.  Even though we have not seen <code><span style=\"color:rgb(0,136,0);\">range</span></code> yet, we can immediately identify it as a function, not a keyword.\n",
    "\n",
    "Secondly, keywords are highlighted in a deep, bold, <code><span style=\"color:rgb(0,128,0);font-weight:bold;\">dark green</span></code>.  This lets us add to our list of colour meanings:\n",
    "\n",
    "<ul>\n",
    "    <li> Numerical data and built-in functions are <code><span style=\"color:rgb(0,136,0);\">green</span></code>.</li><br>\n",
    "    <li> Strings are <code><span style=\"color:rgb(186,33,33);\">red</span></code>.</li><br>\n",
    "    <li> Variables are <code>black</code>.</li><br>\n",
    "    <li> Operators are <code><span style=\"color:rgb(170,34,255);font-weight:bold;\">purple</span></code>.</li><br>\n",
    "    <li> Keywords are <code><span style=\"color:rgb(0,128,0);font-weight:bold;\">dark green</span></code>.</li>\n",
    "</ul>\n",
    "\n",
    "We won't discuss the meaning of any of these new keywords now, but will keep the existence of keywords in mind for future lectures.  Each keyword contributes a <em>lot</em> of functionality, so we will normally only see a couple of new ones in each lecture, and they will normally be introduced as part of an overarching topic (for instance, we will see <code><span style=\"color:rgb(0,128,0);font-weight:bold;\">for</span></code> and <code><span style=\"color:rgb(0,128,0);font-weight:bold;\">in</span></code> when we discuss lists and iteration).\n",
    "\n",
    "There is however, one keyword that we'll need immediately, and that is <code><span style=\"color:rgb(0,128,0);font-weight:bold;\">import</span></code>.\n",
    "\n",
    "<h2>Modules and Packages</h2>\n",
    "\n",
    "One of the many advantages to learning a popular programming language is that if the aim of our code is to achieve a commonplace task, the chances are that someone else has already coded it for us!\n",
    "\n",
    "Python files are text documents that end in a <samp>.py</samp> file extension.  They can be written in any text processor, such as Notepad, Wordpad, Microsoft Word or even inside Jupyter Notebook itself.  The distinction between Python files and other text documents is that the <samp>.py</samp> file extension tells a Python environment that it's safe to read the contents as Python code.\n",
    "\n",
    "We can try this for ourselves.  In the MTH4000 folder (where presumably, this current document resides), click the <kbd>New ▾</kbd> button, and select <samp>Text File</samp> from the drop-down menu.\n",
    "\n",
    "This should open a new window, allowing us to edit a text document called <samp>untitled.txt</samp>.  Click the name of the document, and change it to <samp>test.py</samp>.  Inside the body of this text document, copy and paste the following code box."
   ]
  },
  {
   "cell_type": "code",
   "execution_count": 2,
   "metadata": {
    "ExecuteTime": {
     "end_time": "2024-09-28T13:07:24.976207Z",
     "start_time": "2024-09-28T13:07:24.972552Z"
    }
   },
   "outputs": [
    {
     "name": "stdout",
     "output_type": "stream",
     "text": [
      "Hello from test.py!\n"
     ]
    }
   ],
   "source": [
    "message = 'Hello from test.py'\n",
    "\n",
    "print('Hello from test.py!')\n",
    "\n",
    "# We could run this box here, if we needed to.\n",
    "# But we're aiming to run this code from a completely separate file."
   ]
  },
  {
   "cell_type": "markdown",
   "metadata": {},
   "source": [
    "We must now click the <kbd>Save</kbd> button from the top menu (or alternatively press <kbd>Ctrl</kbd>+<kbd>S</kbd> on the keyboard), in order to save this Python file in our MTH4000 directory.\n",
    "\n",
    "This gives us the file we need to use, but how do we get the data from that file into this document (ignoring the fact that we originally copied it <em>from</em> this document, so it's already present in the code box above)?\n",
    "\n",
    "This is where we use the <code><span style=\"color:rgb(0,128,0);font-weight:bold;\">import</span></code> keyword.  <code><span style=\"color:rgb(0,128,0);font-weight:bold;\">import</span></code> is an instruction that tells the Python environment to search the local directories for a file with a given name, and run the code inside that file.  It works as follows:"
   ]
  },
  {
   "cell_type": "code",
   "execution_count": 3,
   "metadata": {
    "ExecuteTime": {
     "end_time": "2024-09-28T13:07:26.090018Z",
     "start_time": "2024-09-28T13:07:25.877814Z"
    }
   },
   "outputs": [],
   "source": [
    "import test\n",
    "\n",
    "# Run this box!"
   ]
  },
  {
   "cell_type": "markdown",
   "metadata": {},
   "source": [
    "We find that the <code><span style=\"color:rgb(0,136,0);\">print</span></code> instruction that was copied into the <samp>test.py</samp> Python file has been run inside this notebook.\n",
    "\n",
    "Note that when importing from a Python file, we only include the name of the file, not the <samp>.py</samp> extension.\n",
    "\n",
    "Moreover, we can obtain the string that was assigned to the variable <code>message</code>.  However, Python is careful not to import this under the name <code>message</code>, since this could accidentally overwrite any variable called <code>message</code> that we already have defined in our environment.  To circumvent this, Python imports it under the name <code>test.message</code>."
   ]
  },
  {
   "cell_type": "code",
   "execution_count": 4,
   "metadata": {
    "ExecuteTime": {
     "end_time": "2024-09-28T13:07:27.548115Z",
     "start_time": "2024-09-28T13:07:27.541596Z"
    }
   },
   "outputs": [
    {
     "ename": "AttributeError",
     "evalue": "module 'test' has no attribute 'message'",
     "output_type": "error",
     "traceback": [
      "\u001b[1;31m---------------------------------------------------------------------------\u001b[0m",
      "\u001b[1;31mAttributeError\u001b[0m                            Traceback (most recent call last)",
      "Cell \u001b[1;32mIn[4], line 1\u001b[0m\n\u001b[1;32m----> 1\u001b[0m test\u001b[38;5;241m.\u001b[39mmessage\n",
      "\u001b[1;31mAttributeError\u001b[0m: module 'test' has no attribute 'message'"
     ]
    }
   ],
   "source": [
    "test.message"
   ]
  },
  {
   "cell_type": "markdown",
   "metadata": {},
   "source": [
    "In general, to obtain data from a variable <code>var</code> that was defined in a Python file <code>file</code>, we import the file, and call the variable with the syntax <code>file.var</code>.\n",
    "\n",
    "This means that any data defined in an external Python file can be accessed in a Jupyter Notebook environment with one quick <code><span style=\"color:rgb(0,128,0);font-weight:bold;\">import</span></code> command!  This includes any functions defined in such a file.\n",
    "\n",
    "This is primarily how we will use the <code><span style=\"color:rgb(0,128,0);font-weight:bold;\">import</span></code> keyword.  Assume that there exists a file somewhere in a local directory that has a function we need, we import this file, and then call the function for local pieces of data.\n",
    "\n",
    "To demonstrate this, let's say we wish to compute the sine of the following value:"
   ]
  },
  {
   "cell_type": "code",
   "execution_count": 5,
   "metadata": {
    "ExecuteTime": {
     "end_time": "2024-09-28T13:07:30.045158Z",
     "start_time": "2024-09-28T13:07:30.040055Z"
    }
   },
   "outputs": [],
   "source": [
    "val = 1.588329573653294"
   ]
  },
  {
   "cell_type": "markdown",
   "metadata": {},
   "source": [
    "The sine function is not built into the standard Python environment.  We can test this:"
   ]
  },
  {
   "cell_type": "code",
   "execution_count": 6,
   "metadata": {
    "ExecuteTime": {
     "end_time": "2024-09-28T13:09:30.944805Z",
     "start_time": "2024-09-28T13:09:30.917462Z"
    }
   },
   "outputs": [
    {
     "ename": "NameError",
     "evalue": "name 'sin' is not defined",
     "output_type": "error",
     "traceback": [
      "\u001b[1;31m---------------------------------------------------------------------------\u001b[0m",
      "\u001b[1;31mNameError\u001b[0m                                 Traceback (most recent call last)",
      "Cell \u001b[1;32mIn[6], line 1\u001b[0m\n\u001b[1;32m----> 1\u001b[0m sin(val)\n",
      "\u001b[1;31mNameError\u001b[0m: name 'sin' is not defined"
     ]
    }
   ],
   "source": [
    "sin(val)"
   ]
  },
  {
   "cell_type": "markdown",
   "metadata": {},
   "source": [
    "There is however, an implementation of the sine function a local file called <a href=\"https://docs.python.org/3/library/math.html\"><samp>math</samp></a>.\n",
    "\n",
    "<samp>math</samp> is a file that is included in all standard implementations of Python.  That is to say, it's part of the <a href=\"https://docs.python.org/3/library/index.html\">Python Standard Library</a>.  It contains implementations of commonly-used mathematical functions and constants, including the trigonometric functions, hyperbolic functions, power and logarithmic functions, pi, e, etc."
   ]
  },
  {
   "cell_type": "code",
   "execution_count": 7,
   "metadata": {
    "ExecuteTime": {
     "end_time": "2024-09-28T13:09:33.163533Z",
     "start_time": "2024-09-28T13:09:33.157881Z"
    }
   },
   "outputs": [
    {
     "name": "stdout",
     "output_type": "stream",
     "text": [
      "1.588329573653294\n"
     ]
    }
   ],
   "source": [
    "import math\n",
    "\n",
    "math.sin(val)\n",
    "print(val)"
   ]
  },
  {
   "cell_type": "markdown",
   "metadata": {},
   "source": [
    "Mission accomplished!  The <samp>math</samp> file allows us to do all sorts of mathematical computations."
   ]
  },
  {
   "cell_type": "code",
   "execution_count": 16,
   "metadata": {
    "ExecuteTime": {
     "end_time": "2024-09-28T13:09:38.281060Z",
     "start_time": "2024-09-28T13:09:38.272443Z"
    }
   },
   "outputs": [
    {
     "data": {
      "text/plain": [
       "-1.0"
      ]
     },
     "execution_count": 16,
     "metadata": {},
     "output_type": "execute_result"
    }
   ],
   "source": [
    "math.cos(math.pi)+math.log(1)"
   ]
  },
  {
   "cell_type": "markdown",
   "metadata": {},
   "source": [
    "We notice that <em>every</em> call to an imported variable must be prepended with <code>math.</code>, not just the first.\n",
    "\n",
    "We also note that we didn't have to write the line <code><span style=\"color:rgb(0,128,0);font-weight:bold;\">import</span> math</code> in this last box.  Once a module has been imported in a session, it remains imported until the session is closed.  When we re-open this notebook however, we will have to re-run the code to import the data again.\n",
    "\n",
    "Python is very clever when it comes to re-running boxes that contain an <code><span style=\"color:rgb(0,128,0);font-weight:bold;\">import</span></code> command.  Since importing data uses a lot of processing power, Python ignores a command to import data that has already been imported.  When we imported our <samp>test.py</samp> file earlier, we received a printed message.  Run the box below, and notice it does not reappear."
   ]
  },
  {
   "cell_type": "code",
   "execution_count": 17,
   "metadata": {
    "ExecuteTime": {
     "end_time": "2024-09-28T13:09:45.204603Z",
     "start_time": "2024-09-28T13:09:45.199623Z"
    }
   },
   "outputs": [],
   "source": [
    "import test"
   ]
  },
  {
   "cell_type": "markdown",
   "metadata": {},
   "source": [
    "This is because we have already imported <samp>test</samp>, and so the instruction (and the print command) are ignored.\n",
    "\n",
    "Any file accessible by Python in a local directory is called a <b>module</b>.  We have used the <samp>math</samp> module, and we have built our own <samp>test</samp> module.  There are <em>many, many</em> more!"
   ]
  },
  {
   "cell_type": "code",
   "execution_count": 18,
   "metadata": {
    "ExecuteTime": {
     "end_time": "2024-09-28T13:09:54.831679Z",
     "start_time": "2024-09-28T13:09:54.826386Z"
    }
   },
   "outputs": [
    {
     "data": {
      "text/plain": [
       "0.3255835064356257"
      ]
     },
     "execution_count": 18,
     "metadata": {},
     "output_type": "execute_result"
    }
   ],
   "source": [
    "# We can create pseudorandom numbers.\n",
    "\n",
    "import random\n",
    "\n",
    "random.random()"
   ]
  },
  {
   "cell_type": "code",
   "execution_count": 19,
   "metadata": {
    "ExecuteTime": {
     "end_time": "2024-09-28T13:09:58.000455Z",
     "start_time": "2024-09-28T13:09:57.993915Z"
    }
   },
   "outputs": [
    {
     "data": {
      "text/plain": [
       "0.0012468999993870966"
      ]
     },
     "execution_count": 19,
     "metadata": {},
     "output_type": "execute_result"
    }
   ],
   "source": [
    "# We can check how long it takes to run code samples.\n",
    "\n",
    "import timeit\n",
    "\n",
    "timeit.timeit('673*942', number=100000)"
   ]
  },
  {
   "cell_type": "code",
   "execution_count": 20,
   "metadata": {
    "ExecuteTime": {
     "end_time": "2024-09-28T13:09:58.906093Z",
     "start_time": "2024-09-28T13:09:58.900761Z"
    }
   },
   "outputs": [
    {
     "data": {
      "text/plain": [
       "datetime.time(14, 9, 58, 902759)"
      ]
     },
     "execution_count": 20,
     "metadata": {},
     "output_type": "execute_result"
    }
   ],
   "source": [
    "# We can even ask Python for the time.\n",
    "\n",
    "import datetime\n",
    "\n",
    "datetime.datetime.now().time()"
   ]
  },
  {
   "cell_type": "markdown",
   "metadata": {},
   "source": [
    "The truth is, most of the modules in the <a href=\"https://docs.python.org/3/library/index.html\">Python Standard Library</a> are utilitarian, and nearly all focus on computational and data processing concerns.\n",
    "\n",
    "If we want something truly avant-garde, we have to go elsewhere.  Thankfully, it's possible (and entirely common) to download modules from the internet and install them in our local directory.  Python even has a built-in package manager called PIP to help us achieve this. (The name PIP stands for \"Pip Installs Packages\" and is an example of a recursive acronym - programmers love these kind of jokes.)\n",
    "\n",
    "<em>(Safety Note:  Make sure to only download files (Python or otherwise) from reputable sources.  Malicious agents may create files containing harmful code.)</em>\n",
    "\n",
    "We won't be relying on PIP in this course though.  Most common modules, standard or otherwise, come pre-installed in Jupyter Notebook.  We can see some of these below."
   ]
  },
  {
   "cell_type": "code",
   "execution_count": 21,
   "metadata": {
    "ExecuteTime": {
     "end_time": "2024-09-28T13:10:01.018271Z",
     "start_time": "2024-09-28T13:10:00.794319Z"
    }
   },
   "outputs": [
    {
     "name": "stdout",
     "output_type": "stream",
     "text": [
      "[-5.         -4.56521739 -4.13043478 -3.69565217 -3.26086957 -2.82608696\n",
      " -2.39130435 -1.95652174 -1.52173913 -1.08695652 -0.65217391 -0.2173913\n",
      "  0.2173913   0.65217391  1.08695652  1.52173913  1.95652174  2.39130435\n",
      "  2.82608696  3.26086957  3.69565217  4.13043478  4.56521739  5.        ]\n",
      "\n",
      "[25.         20.84120983 17.06049149 13.65784499 10.63327032  7.98676749\n",
      "  5.71833648  3.82797732  2.31568998  1.18147448  0.42533081  0.04725898\n",
      "  0.04725898  0.42533081  1.18147448  2.31568998  3.82797732  5.71833648\n",
      "  7.98676749 10.63327032 13.65784499 17.06049149 20.84120983 25.        ]\n"
     ]
    }
   ],
   "source": [
    "import numpy\n",
    "\n",
    "# NumPy includes implementations of numerical algorithms,\n",
    "# and objects from linear algebra (including matrices).\n",
    "# We shall see more of this module later in the course.\n",
    "\n",
    "x = numpy.linspace(-5, 5, 24)\n",
    "print(x)\n",
    "print()\n",
    "y = x**2\n",
    "print(y)"
   ]
  },
  {
   "cell_type": "code",
   "execution_count": null,
   "metadata": {},
   "outputs": [],
   "source": [
    "import matplotlib.pyplot\n",
    "\n",
    "# MatPlotLib includes graphical routines for\n",
    "# constructing figures and plots of data.\n",
    "# Again, much more of this to come!\n",
    "\n",
    "matplotlib.pyplot.plot(x, y)\n",
    "matplotlib.pyplot.xlabel('x')\n",
    "matplotlib.pyplot.ylabel('y')\n",
    "matplotlib.pyplot.show()"
   ]
  },
  {
   "cell_type": "markdown",
   "metadata": {},
   "source": [
    "We notice that the last import had a <code>.</code> in the middle of the module's name, <code>matplotlib.pyplot</code>.  This is because we have been a bit imprecise.\n",
    "\n",
    "<ul>\n",
    "    <li> A <b>module</b> is a file in the local directory containing Python code.</li><br>\n",
    "    <li> A <b>package</b> is a folder in the local directory that contains Python modules.</li>\n",
    "</ul>\n",
    "\n",
    "There are many technicalities that we won't discuss here, but it's possible to import entire packages at once.  <a href=\"https://numpy.org/\">NumPy</a> is an example of this.  It exists as a folder, not a single file.  The folder contains files of Python code, but also files instructing the import commands where to look for the correct data.\n",
    "\n",
    "This means that we should refer to NumPy as a 'package', rather than a 'module'.  In practice however, many developers use the terms 'package' and 'module' somewhat interchangeably.\n",
    "\n",
    "This distinction comes to the fore in <a href=\"https://matplotlib.org/\">MatPlotLib</a>, which is also a package.  Here however, it is common to import only the PyPlot file from the MatPlotLib folder, and this is done with the <code>matplotlib.pyplot</code> syntax.  This means that data from other files in the MatPlotLib folder are ignored, and are not imported.\n",
    "\n",
    "Another note regarding this import, it is surely very tedious to write <code>matplotlib.pyplot</code> at the start of every function call that pertains to this module.  This can be aided with the use of the <code><span style=\"color:rgb(0,128,0);font-weight:bold;\">as</span></code> keyword, which allows us to assign a new name to an imported module."
   ]
  },
  {
   "cell_type": "code",
   "execution_count": 22,
   "metadata": {
    "ExecuteTime": {
     "end_time": "2024-09-28T13:14:52.500462Z",
     "start_time": "2024-09-28T13:14:51.733848Z"
    }
   },
   "outputs": [
    {
     "data": {
      "image/png": "[encoded data removed]",
      "text/plain": [
       "<Figure size 640x480 with 1 Axes>"
      ]
     },
     "metadata": {},
     "output_type": "display_data"
    }
   ],
   "source": [
    "import numpy as np\n",
    "import matplotlib.pyplot as plt\n",
    "\n",
    "# The rest of the code is as above,\n",
    "# only with these new abbreviated module names.\n",
    "\n",
    "x = np.linspace(-5, 5, 24)\n",
    "y = x**2\n",
    "\n",
    "plt.plot(x, y)\n",
    "plt.xlabel('x')\n",
    "plt.ylabel('y')\n",
    "plt.show()"
   ]
  },
  {
   "cell_type": "markdown",
   "metadata": {},
   "source": [
    "The choice of <code>np</code> and <code>plt</code> is not only convenient, it is standard among Python developers.  Indeed, if we were to locate samples of Python code online that use these modules, there would almost certainly be identical naming conventions contained within them.\n",
    "\n",
    "Last week, we saw how the built-in <code>dir</code> function could be used to identify all the variables that have been defined in our current coding session."
   ]
  },
  {
   "cell_type": "code",
   "execution_count": 2,
   "metadata": {
    "ExecuteTime": {
     "end_time": "2024-09-28T13:15:05.455034Z",
     "start_time": "2024-09-28T13:15:05.451031Z"
    }
   },
   "outputs": [
    {
     "name": "stdout",
     "output_type": "stream",
     "text": [
      "['In', 'Out', '_', '__', '___', '__builtin__', '__builtins__', '__doc__', '__loader__', '__name__', '__package__', '__session__', '__spec__', '_dh', '_i', '_i1', '_i2', '_ih', '_ii', '_iii', '_oh', 'exit', 'get_ipython', 'open', 'quit']\n"
     ]
    }
   ],
   "source": [
    "print(dir())"
   ]
  },
  {
   "cell_type": "markdown",
   "metadata": {},
   "source": [
    "This works because in the absence of any specific argument, the <code>dir</code> function returns a list of all data in the so-called <em>global scope</em> (we will see more about this later).  However, if we call the function with a module as an argument, the <code>dir</code> function gives us all variables defined inside this module."
   ]
  },
  {
   "cell_type": "code",
   "execution_count": 1,
   "metadata": {
    "ExecuteTime": {
     "end_time": "2024-09-28T13:15:13.241310Z",
     "start_time": "2024-09-28T13:15:13.237310Z"
    }
   },
   "outputs": [
    {
     "ename": "NameError",
     "evalue": "name 'math' is not defined",
     "output_type": "error",
     "traceback": [
      "\u001b[1;31m---------------------------------------------------------------------------\u001b[0m",
      "\u001b[1;31mNameError\u001b[0m                                 Traceback (most recent call last)",
      "Cell \u001b[1;32mIn[1], line 1\u001b[0m\n\u001b[1;32m----> 1\u001b[0m \u001b[38;5;28mprint\u001b[39m(\u001b[38;5;28mdir\u001b[39m(math))\n",
      "\u001b[1;31mNameError\u001b[0m: name 'math' is not defined"
     ]
    }
   ],
   "source": [
    "print(dir(math))"
   ]
  },
  {
   "cell_type": "markdown",
   "metadata": {},
   "source": [
    "This is a convenient way of determining what data exists in a given module.  If we wish to find out more about the data attached to a variable, we can call the <code>help</code> function.  For instance, in the above call, we can see the the <code>math</code> module contains a variable called <code>gcd</code>, what does this do?"
   ]
  },
  {
   "cell_type": "code",
   "execution_count": 25,
   "metadata": {
    "ExecuteTime": {
     "end_time": "2024-09-28T13:15:29.765761Z",
     "start_time": "2024-09-28T13:15:29.757936Z"
    }
   },
   "outputs": [
    {
     "name": "stdout",
     "output_type": "stream",
     "text": [
      "Help on built-in function gcd in module math:\n",
      "\n",
      "gcd(*integers)\n",
      "    Greatest Common Divisor.\n",
      "\n"
     ]
    }
   ],
   "source": [
    "help(math.gcd)"
   ]
  },
  {
   "cell_type": "markdown",
   "metadata": {},
   "source": [
    "We can, of course, also run the <code>help</code> function for the entire module to get more information about its contents."
   ]
  },
  {
   "cell_type": "code",
   "execution_count": 26,
   "metadata": {
    "ExecuteTime": {
     "end_time": "2024-09-28T13:15:34.430265Z",
     "start_time": "2024-09-28T13:15:34.427262Z"
    }
   },
   "outputs": [],
   "source": [
    "# help(math)"
   ]
  },
  {
   "cell_type": "markdown",
   "metadata": {},
   "source": [
    "In reality, most developers would forgo these options in favour of simply searching online for the <a href=\"https://docs.python.org/3/library/math.html\">documentation</a> of any module they wish to use (any reputable module should have online documentation pages).\n",
    "\n",
    "As a final note on imports, we introduce the keyword <code><span style=\"color:rgb(0,128,0);font-weight:bold;\">from</span></code>.  The <code><span style=\"color:rgb(0,128,0);font-weight:bold;\">from</span></code> keyword let's us select which variables we wish to import, while leaving the others unimported."
   ]
  },
  {
   "cell_type": "code",
   "execution_count": 27,
   "metadata": {
    "ExecuteTime": {
     "end_time": "2024-09-28T13:15:42.727736Z",
     "start_time": "2024-09-28T13:15:42.718723Z"
    }
   },
   "outputs": [
    {
     "data": {
      "text/plain": [
       "0.9998462965649203"
      ]
     },
     "execution_count": 27,
     "metadata": {},
     "output_type": "execute_result"
    }
   ],
   "source": [
    "from math import sin\n",
    "\n",
    "sin(val)"
   ]
  },
  {
   "cell_type": "markdown",
   "metadata": {},
   "source": [
    "Notice that when using this syntax, we are no longer required to prepend the imported variable with the module name.  That is, we can now use <code>sin</code>, rather than <code>math.sin</code>.\n",
    "\n",
    "Since we only import <code>sin</code> this way however, we cannot do the same with <code>cos</code>."
   ]
  },
  {
   "cell_type": "code",
   "execution_count": 28,
   "metadata": {
    "ExecuteTime": {
     "end_time": "2024-09-28T13:15:47.365124Z",
     "start_time": "2024-09-28T13:15:47.347923Z"
    }
   },
   "outputs": [
    {
     "ename": "NameError",
     "evalue": "name 'cos' is not defined",
     "output_type": "error",
     "traceback": [
      "\u001b[1;31m---------------------------------------------------------------------------\u001b[0m",
      "\u001b[1;31mNameError\u001b[0m                                 Traceback (most recent call last)",
      "Cell \u001b[1;32mIn[28], line 1\u001b[0m\n\u001b[1;32m----> 1\u001b[0m cos(val)\n",
      "\u001b[1;31mNameError\u001b[0m: name 'cos' is not defined"
     ]
    }
   ],
   "source": [
    "cos(val)"
   ]
  },
  {
   "cell_type": "markdown",
   "metadata": {},
   "source": [
    "This doesn't stop us importing <code>cos</code>.  In fact, we can use a comma <code>,</code> to import more than one variable at once."
   ]
  },
  {
   "cell_type": "code",
   "execution_count": 29,
   "metadata": {
    "ExecuteTime": {
     "end_time": "2024-09-28T13:15:53.723213Z",
     "start_time": "2024-09-28T13:15:53.719148Z"
    }
   },
   "outputs": [
    {
     "data": {
      "text/plain": [
       "-1.0"
      ]
     },
     "execution_count": 29,
     "metadata": {},
     "output_type": "execute_result"
    }
   ],
   "source": [
    "from math import cos, pi\n",
    "\n",
    "cos(pi)"
   ]
  },
  {
   "cell_type": "markdown",
   "metadata": {},
   "source": [
    "We can even use an asterisk <code><span style=\"color:rgb(170,34,255);font-weight:bold;\">*</span></code> to import <em>all</em> variables contained within a module."
   ]
  },
  {
   "cell_type": "code",
   "execution_count": 30,
   "metadata": {
    "ExecuteTime": {
     "end_time": "2024-09-28T13:15:55.318475Z",
     "start_time": "2024-09-28T13:15:55.313249Z"
    }
   },
   "outputs": [
    {
     "data": {
      "text/plain": [
       "1.0"
      ]
     },
     "execution_count": 30,
     "metadata": {},
     "output_type": "execute_result"
    }
   ],
   "source": [
    "from math import *\n",
    "\n",
    "log(e)\n",
    "\n",
    "# Again, no need to prepend with 'math.' when importing with the 'from' keyword."
   ]
  },
  {
   "cell_type": "markdown",
   "metadata": {},
   "source": [
    "By now, it might be starting to feel like we're learning a <em>lot</em> of syntax, but aren't doing much with it.  In the next few sections, we will see how these data types, variables, operators, keywords and modules can be combined to allow us to build algorithms, process data, and get greater control over our code.\n",
    "\n",
    "From now on, the lectures will mostly follow a similar scheme:\n",
    "\n",
    "<ul>\n",
    "    <li> We introduce a new type of data, or a new module (some modules will define their own types of data).</li><br>\n",
    "    <li> We will demonstrate how to construct this new type of data, and test it acts under standard <code><span style=\"color:rgb(170,34,255);font-weight:bold;\">operators</span></code>.</li><br>\n",
    "    <li> We discuss any new <code><span style=\"color:rgb(0,128,0);font-weight:bold;\">keywords</span></code> and <code><span style=\"color:rgb(0,136,0);\">functions</span></code> that are required to utilise the full functionality of this new data type.\n",
    "</ul>\n",
    "\n",
    "To begin with, let's introduce our first new type of data, lists.\n",
    "\n",
    "<h2> Lists </h2>\n",
    "\n",
    "The numerical data that we've seen so far can be categorised as <b>simple data</b>.  That is, each piece of data only contains a single value.  If we wish to store more than one of these values, we would have to assign them to more than one variable.  This can prove quite cumbersome."
   ]
  },
  {
   "cell_type": "code",
   "execution_count": 31,
   "metadata": {
    "ExecuteTime": {
     "end_time": "2024-09-28T13:16:05.577205Z",
     "start_time": "2024-09-28T13:16:05.573918Z"
    }
   },
   "outputs": [],
   "source": [
    "x = 2.236\n",
    "y = 2.449\n",
    "z = 1.414\n",
    "zz = 2.0\n",
    "zzz = 1.732\n",
    "# ..."
   ]
  },
  {
   "cell_type": "markdown",
   "metadata": {},
   "source": [
    "It would be far better if several values could be attached to a single piece of data.  Such a piece of data is called <b>composite data</b>, and Python has several kinds of built in.  The first (and arguably most common) is the <b>list</b>.  To write a list in Python, we use square brackets <code>[]</code>, with commas <code>,</code> separating each piece of simple data contained within."
   ]
  },
  {
   "cell_type": "code",
   "execution_count": 32,
   "metadata": {
    "ExecuteTime": {
     "end_time": "2024-09-28T13:16:13.208597Z",
     "start_time": "2024-09-28T13:16:13.202574Z"
    }
   },
   "outputs": [
    {
     "data": {
      "text/plain": [
       "[2.236, 2.449, 1.414, 2.0, 1.732]"
      ]
     },
     "execution_count": 32,
     "metadata": {},
     "output_type": "execute_result"
    }
   ],
   "source": [
    "# This is a list.\n",
    "\n",
    "[2.236, 2.449, 1.414, 2.0, 1.732]\n",
    "\n",
    "# Putting spaces after each comma makes it look tidy, but is entirely optional."
   ]
  },
  {
   "cell_type": "markdown",
   "metadata": {},
   "source": [
    "The above code box validates the idea that Python recognises this type of data (that is, there was no <samp><span style=\"color:rgb(178,43,49);font-weight:bold;\">SyntaxError</span></samp>, so we're clearly not making stuff up).  Let us probe this further.  As with all types of data, lists can be assigned to a variable."
   ]
  },
  {
   "cell_type": "code",
   "execution_count": 33,
   "metadata": {
    "ExecuteTime": {
     "end_time": "2024-09-28T13:16:14.469706Z",
     "start_time": "2024-09-28T13:16:14.466213Z"
    }
   },
   "outputs": [
    {
     "name": "stdout",
     "output_type": "stream",
     "text": [
      "[2.236, 2.449, 1.414, 2.0, 1.732]\n"
     ]
    }
   ],
   "source": [
    "l = [2.236, 2.449, 1.414, 2.0, 1.732]\n",
    "\n",
    "print(l)"
   ]
  },
  {
   "cell_type": "markdown",
   "metadata": {},
   "source": [
    "We can verify that Python recognise this as a data type called <samp>list</samp> by calling the <code><span style=\"color:rgb(0,136,0);\">type</span></code> function."
   ]
  },
  {
   "cell_type": "code",
   "execution_count": 34,
   "metadata": {
    "ExecuteTime": {
     "end_time": "2024-09-28T13:16:15.839924Z",
     "start_time": "2024-09-28T13:16:15.835177Z"
    }
   },
   "outputs": [
    {
     "data": {
      "text/plain": [
       "list"
      ]
     },
     "execution_count": 34,
     "metadata": {},
     "output_type": "execute_result"
    }
   ],
   "source": [
    "type(l)"
   ]
  },
  {
   "cell_type": "markdown",
   "metadata": {},
   "source": [
    "<h2> List Operations </h2>\n",
    "\n",
    "Similarly to strings, lists can be concatenated with the <code><span style=\"color:rgb(170,34,255);font-weight:bold;\">+</span></code> operator."
   ]
  },
  {
   "cell_type": "code",
   "execution_count": 35,
   "metadata": {
    "ExecuteTime": {
     "end_time": "2024-09-28T13:16:17.437732Z",
     "start_time": "2024-09-28T13:16:17.431667Z"
    }
   },
   "outputs": [
    {
     "data": {
      "text/plain": [
       "[2.236, 2.449, 1.414, 2.0, 1.732, 2.646, 3.0, 2.828]"
      ]
     },
     "execution_count": 35,
     "metadata": {},
     "output_type": "execute_result"
    }
   ],
   "source": [
    "m = [2.646, 3.0, 2.828]\n",
    "\n",
    "l+m\n",
    "\n",
    "# The resulting list will contain all of the elements of l (in their original order),\n",
    "# followed by all of the elements of m (in their original order)."
   ]
  },
  {
   "cell_type": "markdown",
   "metadata": {},
   "source": [
    "Note that the order of this operation matters."
   ]
  },
  {
   "cell_type": "code",
   "execution_count": 36,
   "metadata": {
    "ExecuteTime": {
     "end_time": "2024-09-28T13:16:23.338035Z",
     "start_time": "2024-09-28T13:16:23.331906Z"
    }
   },
   "outputs": [
    {
     "data": {
      "text/plain": [
       "[2.646, 3.0, 2.828, 2.236, 2.449, 1.414, 2.0, 1.732]"
      ]
     },
     "execution_count": 36,
     "metadata": {},
     "output_type": "execute_result"
    }
   ],
   "source": [
    "m+l\n",
    "\n",
    "# The resulting list will contain all of the elements of m (in their original order),\n",
    "# followed by all of the elements of l (in their original order)."
   ]
  },
  {
   "cell_type": "markdown",
   "metadata": {},
   "source": [
    "Like all types of data, as long as an operation is well-defined, its result can be immediately be assinged to a new variable."
   ]
  },
  {
   "cell_type": "code",
   "execution_count": 37,
   "metadata": {
    "ExecuteTime": {
     "end_time": "2024-09-28T13:16:31.213819Z",
     "start_time": "2024-09-28T13:16:31.208000Z"
    }
   },
   "outputs": [
    {
     "name": "stdout",
     "output_type": "stream",
     "text": [
      "[2.236, 2.449, 1.414, 2.0, 1.732, 2.646, 3.0, 2.828]\n"
     ]
    }
   ],
   "source": [
    "big_list = l+m\n",
    "\n",
    "print(big_list)"
   ]
  },
  {
   "cell_type": "markdown",
   "metadata": {},
   "source": [
    "As with strings, lists can be multiplied by integers, the result of which is a list formed by concatenating the list with itself a certain number of times."
   ]
  },
  {
   "cell_type": "code",
   "execution_count": 38,
   "metadata": {
    "ExecuteTime": {
     "end_time": "2024-09-28T13:16:35.454900Z",
     "start_time": "2024-09-28T13:16:35.450446Z"
    }
   },
   "outputs": [
    {
     "name": "stdout",
     "output_type": "stream",
     "text": [
      "[2.646, 3.0, 2.828]\n",
      "[2.646, 3.0, 2.828, 2.646, 3.0, 2.828]\n",
      "[2.646, 3.0, 2.828, 2.646, 3.0, 2.828, 2.646, 3.0, 2.828]\n"
     ]
    }
   ],
   "source": [
    "print(m)\n",
    "print(m*2)\n",
    "print(3*m)\n",
    "\n",
    "# Note that it doesn't matter whether the integer is multiplied to the left of the list,\n",
    "# or to the right."
   ]
  },
  {
   "cell_type": "markdown",
   "metadata": {},
   "source": [
    "We cannot multiply a list by another list, however."
   ]
  },
  {
   "cell_type": "code",
   "execution_count": 39,
   "metadata": {
    "ExecuteTime": {
     "end_time": "2024-09-28T13:16:38.121044Z",
     "start_time": "2024-09-28T13:16:38.094590Z"
    }
   },
   "outputs": [
    {
     "ename": "TypeError",
     "evalue": "can't multiply sequence by non-int of type 'list'",
     "output_type": "error",
     "traceback": [
      "\u001b[1;31m---------------------------------------------------------------------------\u001b[0m",
      "\u001b[1;31mTypeError\u001b[0m                                 Traceback (most recent call last)",
      "Cell \u001b[1;32mIn[39], line 1\u001b[0m\n\u001b[1;32m----> 1\u001b[0m l\u001b[38;5;241m*\u001b[39mm\n",
      "\u001b[1;31mTypeError\u001b[0m: can't multiply sequence by non-int of type 'list'"
     ]
    }
   ],
   "source": [
    "l*m"
   ]
  },
  {
   "cell_type": "markdown",
   "metadata": {},
   "source": [
    "Neither subtraction nor division (in any of its many guises) are defined for lists.\n",
    "\n",
    "What if we <em>already</em> have a list assigned to a variable, and we wish to modify it by adding a single new element to the end?  We could use the addition operator <code><span style=\"color:rgb(170,34,255);font-weight:bold;\">+</span></code>, to create a new list with the extra element added onto the end, and then re-assign the variable to this new extended piece of data."
   ]
  },
  {
   "cell_type": "code",
   "execution_count": 40,
   "metadata": {
    "ExecuteTime": {
     "end_time": "2024-09-28T13:16:44.657402Z",
     "start_time": "2024-09-28T13:16:44.653587Z"
    }
   },
   "outputs": [
    {
     "name": "stdout",
     "output_type": "stream",
     "text": [
      "[2.236, 2.449, 1.414, 2.0, 1.732]\n",
      "[2.236, 2.449, 1.414, 2.0, 1.732, 2.646]\n"
     ]
    }
   ],
   "source": [
    "print(l)\n",
    "# This list has not been modified since its original creation above.\n",
    "# It has featured in computations, but the variable itself was never reassigned.\n",
    "\n",
    "l = l+[2.646]\n",
    "\n",
    "# We now create a new list by adding a list with a single element, 2.646, to the right.\n",
    "# This new list is now assigned to the variable l, meaning that l has taken a new value.\n",
    "\n",
    "print(l)"
   ]
  },
  {
   "cell_type": "markdown",
   "metadata": {},
   "source": [
    "A quicker, more convenient way of modifying a pre-defined list is to use a <em>list method</em>.\n",
    "\n",
    "<h2> List Methods </h2>\n",
    "\n",
    "A <b>method</b> is a function that is built-into a specific piece of data.  They do not exist on their own, but are always attached to a piece of data, and can only be accessed through a call to a variable assigned to that data point.\n",
    "\n",
    "Suppose we have a piece of data <code>x</code> that has a method called <code>method</code>, then we would call this method with the syntax <code>x.method()</code>.  Any input arguments that this function expects would then have to be placed within the parentheses.\n",
    "\n",
    "Let's take an example.  All lists have a method called <code>pop</code>, which identifies the final value in a list, removes it, and returns it to the code box."
   ]
  },
  {
   "cell_type": "code",
   "execution_count": 41,
   "metadata": {
    "ExecuteTime": {
     "end_time": "2024-09-28T13:16:56.097736Z",
     "start_time": "2024-09-28T13:16:56.093631Z"
    }
   },
   "outputs": [
    {
     "data": {
      "text/plain": [
       "2.646"
      ]
     },
     "execution_count": 41,
     "metadata": {},
     "output_type": "execute_result"
    }
   ],
   "source": [
    "l.pop()\n",
    "\n",
    "# Remember, 'pop' doesn't exist on its own.\n",
    "# It has to be attached to a specific list (in this case, l)\n",
    "# Also note that even though it is a function, it does not use any input arguments."
   ]
  },
  {
   "cell_type": "code",
   "execution_count": 42,
   "metadata": {
    "ExecuteTime": {
     "end_time": "2024-09-28T13:16:56.703457Z",
     "start_time": "2024-09-28T13:16:56.699719Z"
    }
   },
   "outputs": [
    {
     "name": "stdout",
     "output_type": "stream",
     "text": [
      "[2.236, 2.449, 1.414, 2.0, 1.732]\n"
     ]
    }
   ],
   "source": [
    "print(l)\n",
    "\n",
    "# We now look at the list to see the final value 2.646 was removed by the pop method."
   ]
  },
  {
   "cell_type": "markdown",
   "metadata": {},
   "source": [
    "The methods that can be applied to a piece of data depend on the type of that data.  So lists will have different methods to strings, which will have different methods to integers, etc.\n",
    "\n",
    "However, all data belonging to a single type will have the same methods (so all lists have the same methods, for instance).  To determine the methods attached to any piece of data, we can return to the <code><span style=\"color:rgb(0,136,0);\">dir</span></code> function, which can also be called for data types."
   ]
  },
  {
   "cell_type": "code",
   "execution_count": 43,
   "metadata": {
    "ExecuteTime": {
     "end_time": "2024-09-28T13:16:58.095197Z",
     "start_time": "2024-09-28T13:16:58.091493Z"
    }
   },
   "outputs": [
    {
     "name": "stdout",
     "output_type": "stream",
     "text": [
      "['__add__', '__class__', '__class_getitem__', '__contains__', '__delattr__', '__delitem__', '__dir__', '__doc__', '__eq__', '__format__', '__ge__', '__getattribute__', '__getitem__', '__getstate__', '__gt__', '__hash__', '__iadd__', '__imul__', '__init__', '__init_subclass__', '__iter__', '__le__', '__len__', '__lt__', '__mul__', '__ne__', '__new__', '__reduce__', '__reduce_ex__', '__repr__', '__reversed__', '__rmul__', '__setattr__', '__setitem__', '__sizeof__', '__str__', '__subclasshook__', 'append', 'clear', 'copy', 'count', 'extend', 'index', 'insert', 'pop', 'remove', 'reverse', 'sort']\n",
      "\n",
      "['__add__', '__class__', '__class_getitem__', '__contains__', '__delattr__', '__delitem__', '__dir__', '__doc__', '__eq__', '__format__', '__ge__', '__getattribute__', '__getitem__', '__getstate__', '__gt__', '__hash__', '__iadd__', '__imul__', '__init__', '__init_subclass__', '__iter__', '__le__', '__len__', '__lt__', '__mul__', '__ne__', '__new__', '__reduce__', '__reduce_ex__', '__repr__', '__reversed__', '__rmul__', '__setattr__', '__setitem__', '__sizeof__', '__str__', '__subclasshook__', 'append', 'clear', 'copy', 'count', 'extend', 'index', 'insert', 'pop', 'remove', 'reverse', 'sort']\n"
     ]
    }
   ],
   "source": [
    "print(dir(l))\n",
    "\n",
    "# This will show us the methods attached to the list, l.\n",
    "\n",
    "print()\n",
    "\n",
    "print(dir(list))\n",
    "\n",
    "# If we don't have a defined list in our local memory,\n",
    "# we can simply call the dir function for the data type directly."
   ]
  },
  {
   "cell_type": "markdown",
   "metadata": {},
   "source": [
    "These lists show us strings naming <em>all</em> <samp>list</samp> methods.  Note that we can see the <code>pop</code> method that we used above.  We can also see a lot of methods beginning and ending with double underscores.  As mentioned before, these methods are used for underlying Python operations, and are not meant for use by coders.\n",
    "\n",
    "We see a list method called <code>append</code> in the directory calls above.  This method allows us to add new elements to the end of a given list.  We can use this method to reinstall the value 2.646 that we removed with our call to the <code>pop</code> method above."
   ]
  },
  {
   "cell_type": "code",
   "execution_count": 44,
   "metadata": {
    "ExecuteTime": {
     "end_time": "2024-09-28T13:17:24.556936Z",
     "start_time": "2024-09-28T13:17:24.552453Z"
    }
   },
   "outputs": [
    {
     "name": "stdout",
     "output_type": "stream",
     "text": [
      "[2.236, 2.449, 1.414, 2.0, 1.732]\n",
      "[2.236, 2.449, 1.414, 2.0, 1.732, 2.646]\n"
     ]
    }
   ],
   "source": [
    "print(l)\n",
    "# The list as it currently stands.\n",
    "\n",
    "l.append(2.646)\n",
    "# This method requires a single input argument.\n",
    "# In our case, we wish to add the value 2.646 to the end of the list.\n",
    "\n",
    "print(l)\n",
    "# We can now see how the list has changed."
   ]
  },
  {
   "cell_type": "markdown",
   "metadata": {},
   "source": [
    "Observe that list methods modify the content of the list to which they are attached.  For instance, once the <code>append</code> method is called for a given list, the argument of the call is then installed as an element in the list.  From that moment on, every time the list is called, this new element will be a part of it.\n",
    "\n",
    "This functionality works because methods are always attached to a fixed piece of data.  There are other functions that can be applied to lists that <em>aren't</em> methods.  These functions exist independently of any fixed piece of data, and behave more like the functions we have already seen.\n",
    "\n",
    "The big difference between these functions and list methods is that list methods change the data in their attached list, whereas the functions defined below accept a list, and use it to produce either a value or a new list.\n",
    "\n",
    "<h2> List Functions </h2>\n",
    "\n",
    "Python has several built-in functions that allow us to retrieve important values from composite data.\n",
    "\n",
    "The <code><span style=\"color:rgb(0,136,0);\">len</span></code> function returns the length of a list.  That is, the number of elements contained within."
   ]
  },
  {
   "cell_type": "code",
   "execution_count": 45,
   "metadata": {
    "ExecuteTime": {
     "end_time": "2024-09-28T13:17:31.151011Z",
     "start_time": "2024-09-28T13:17:31.146532Z"
    }
   },
   "outputs": [
    {
     "data": {
      "text/plain": [
       "6"
      ]
     },
     "execution_count": 45,
     "metadata": {},
     "output_type": "execute_result"
    }
   ],
   "source": [
    "len(l)"
   ]
  },
  {
   "cell_type": "markdown",
   "metadata": {},
   "source": [
    "The <code><span style=\"color:rgb(0,136,0);\">sum</span></code> function returns the sum of all values contained within the list."
   ]
  },
  {
   "cell_type": "code",
   "execution_count": 46,
   "metadata": {
    "ExecuteTime": {
     "end_time": "2024-09-28T13:17:32.275356Z",
     "start_time": "2024-09-28T13:17:32.270041Z"
    }
   },
   "outputs": [
    {
     "data": {
      "text/plain": [
       "12.477"
      ]
     },
     "execution_count": 46,
     "metadata": {},
     "output_type": "execute_result"
    }
   ],
   "source": [
    "sum(l)"
   ]
  },
  {
   "cell_type": "markdown",
   "metadata": {},
   "source": [
    "The <code><span style=\"color:rgb(0,136,0);\">max</span></code> function returns the maximal element contained within a list.  That is, the largest value."
   ]
  },
  {
   "cell_type": "code",
   "execution_count": 47,
   "metadata": {
    "ExecuteTime": {
     "end_time": "2024-09-28T13:17:33.719163Z",
     "start_time": "2024-09-28T13:17:33.714331Z"
    }
   },
   "outputs": [
    {
     "data": {
      "text/plain": [
       "2.646"
      ]
     },
     "execution_count": 47,
     "metadata": {},
     "output_type": "execute_result"
    }
   ],
   "source": [
    "max(l)"
   ]
  },
  {
   "cell_type": "markdown",
   "metadata": {},
   "source": [
    "The <code><span style=\"color:rgb(0,136,0);\">min</span></code> function returns the minimal element contained within a list.  That is, the smallest value."
   ]
  },
  {
   "cell_type": "code",
   "execution_count": 48,
   "metadata": {
    "ExecuteTime": {
     "end_time": "2024-09-28T13:17:34.502707Z",
     "start_time": "2024-09-28T13:17:34.497239Z"
    }
   },
   "outputs": [
    {
     "data": {
      "text/plain": [
       "1.414"
      ]
     },
     "execution_count": 48,
     "metadata": {},
     "output_type": "execute_result"
    }
   ],
   "source": [
    "min(l)"
   ]
  },
  {
   "cell_type": "markdown",
   "metadata": {},
   "source": [
    "There are also built-in functions that accept lists as arguments, and return <em>other</em> derived lists.  A frequently used example of this is the <code><span style=\"color:rgb(0,136,0);\">sorted</span></code> function, which accepts a list, and returns another list with the same data sorted in ascending order."
   ]
  },
  {
   "cell_type": "code",
   "execution_count": 49,
   "metadata": {
    "ExecuteTime": {
     "end_time": "2024-09-28T13:17:35.317415Z",
     "start_time": "2024-09-28T13:17:35.312129Z"
    }
   },
   "outputs": [
    {
     "data": {
      "text/plain": [
       "[1.414, 1.732, 2.0, 2.236, 2.449, 2.646]"
      ]
     },
     "execution_count": 49,
     "metadata": {},
     "output_type": "execute_result"
    }
   ],
   "source": [
    "sorted(l)"
   ]
  },
  {
   "cell_type": "markdown",
   "metadata": {},
   "source": [
    "Note that unlike the list method <code>.sort()</code>, the <code><span style=\"color:rgb(0,136,0);\">sorted</span></code> function creates a <em>new list</em>, and does not replace the original."
   ]
  },
  {
   "cell_type": "code",
   "execution_count": 50,
   "metadata": {
    "ExecuteTime": {
     "end_time": "2024-09-28T13:17:36.684278Z",
     "start_time": "2024-09-28T13:17:36.679576Z"
    }
   },
   "outputs": [
    {
     "data": {
      "text/plain": [
       "[2.236, 2.449, 1.414, 2.0, 1.732, 2.646]"
      ]
     },
     "execution_count": 50,
     "metadata": {},
     "output_type": "execute_result"
    }
   ],
   "source": [
    "l\n",
    "\n",
    "# This call to l will demonstrate that the sorted function did not change the original list."
   ]
  },
  {
   "cell_type": "markdown",
   "metadata": {},
   "source": [
    "There is also the <code><span style=\"color:rgb(0,136,0);\">reversed</span></code> function, which accepts a list and returns the same data in reverse order."
   ]
  },
  {
   "cell_type": "code",
   "execution_count": 51,
   "metadata": {
    "ExecuteTime": {
     "end_time": "2024-09-28T13:17:46.340401Z",
     "start_time": "2024-09-28T13:17:46.334963Z"
    }
   },
   "outputs": [
    {
     "data": {
      "text/plain": [
       "<list_reverseiterator at 0x2d4a0713f70>"
      ]
     },
     "execution_count": 51,
     "metadata": {},
     "output_type": "execute_result"
    }
   ],
   "source": [
    "reversed(l)"
   ]
  },
  {
   "cell_type": "markdown",
   "metadata": {},
   "source": [
    "The only trouble is, it does not return the data as a list, but as another type of object called a <b>generator</b>.  We will not discuss generators here, but we can think of them as lists in which each element is generated by a formula, and only when each element is called by the interpreter.\n",
    "\n",
    "To get the data back into the form of a list, we can use the built-in <code><span style=\"color:rgb(0,136,0);\">list</span></code> function."
   ]
  },
  {
   "cell_type": "code",
   "execution_count": 52,
   "metadata": {
    "ExecuteTime": {
     "end_time": "2024-09-28T13:17:55.912885Z",
     "start_time": "2024-09-28T13:17:55.903389Z"
    }
   },
   "outputs": [
    {
     "data": {
      "text/plain": [
       "[2.646, 1.732, 2.0, 1.414, 2.449, 2.236]"
      ]
     },
     "execution_count": 52,
     "metadata": {},
     "output_type": "execute_result"
    }
   ],
   "source": [
    "list(reversed(l))"
   ]
  },
  {
   "cell_type": "markdown",
   "metadata": {},
   "source": [
    "<h2> Conclusion and Outlook </h2>\n",
    "\n",
    "<ul>\n",
    "    <li> Operators in Python can be applied to more than one type of data, but not necessarily <em>all</em> types of data.</li>\n",
    "    <li> How the interpreter treats an operator is dependent on the data types of its arguments.</li>\n",
    "    <li> External files containing Python code are called <em>modules</em>.  Folders containing such files are called <em>packages</em>.</li>\n",
    "    <li> If we wish to obtain data from modules or packages, we use the <code><span style=\"color:rgb(0,128,0);font-weight:bold;\">import</span></code> keyword.</li>\n",
    "    <li> If we import <code>data</code> from <code>module</code>, we have to call it with the syntax <code>module.data</code>.</li>\n",
    "    <li> Lists are a Python data type that allow us to store composite data.</li>\n",
    "    <li> List methods are functions that are attached to individual lists, and allow us to modify these lists in-place.</li>\n",
    "    <li> Lists have several operations and functions that can be applied to them.  These can be used to generate relevant values, or create other lists.</li>\n",
    "</ul>\n",
    "\n",
    "We have now seen several operations, methods and functions that can be applied to lists.  Yet, we have still not seen how to perform what is arguably the most important piece of functionality involving lists, the ability to obtain pieces of data contained within them.\n",
    "\n",
    "Next week, we shall see an operation called <em>indexing</em>, which allows us to call any element from within a list."
   ]
  },
  {
   "cell_type": "code",
   "execution_count": null,
   "metadata": {},
   "outputs": [],
   "source": []
  }
 ],
 "metadata": {
  "kernelspec": {
   "display_name": "Python 3 (ipykernel)",
   "language": "python",
   "name": "python3"
  },
  "language_info": {
   "codemirror_mode": {
    "name": "ipython",
    "version": 3
   },
   "file_extension": ".py",
   "mimetype": "text/x-python",
   "name": "python",
   "nbconvert_exporter": "python",
   "pygments_lexer": "ipython3",
   "version": "3.12.4"
  }
 },
 "nbformat": 4,
 "nbformat_minor": 4
}
